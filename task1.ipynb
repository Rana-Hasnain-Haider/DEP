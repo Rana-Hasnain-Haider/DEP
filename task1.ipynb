{
 "cells": [
  {
   "cell_type": "code",
   "execution_count": 70,
   "metadata": {},
   "outputs": [
    {
     "name": "stdout",
     "output_type": "stream",
     "text": [
      "       price   area  bedrooms  bathrooms  stories mainroad guestroom basement  \\\n",
      "419  3360000   4960         4          1        3       no        no       no   \n",
      "403  3500000  12944         3          1        1      yes        no       no   \n",
      "465  3045000   3800         2          1        1      yes        no       no   \n",
      "287  4200000   5500         3          1        2      yes        no       no   \n",
      "322  4025000   3460         3          2        1      yes        no      yes   \n",
      "\n",
      "    hotwaterheating airconditioning  parking prefarea furnishingstatus  \n",
      "419              no              no        0       no   semi-furnished  \n",
      "403              no              no        0       no      unfurnished  \n",
      "465              no              no        0       no      unfurnished  \n",
      "287              no             yes        0       no      unfurnished  \n",
      "322              no             yes        1       no        furnished  \n"
     ]
    }
   ],
   "source": [
    "import pandas as pd # type: ignore\n",
    "df = pd.read_csv('D:\\datasets\\Housing.csv')\n",
    "print(df.sample(5))\n"
   ]
  },
  {
   "cell_type": "code",
   "execution_count": 71,
   "metadata": {},
   "outputs": [
    {
     "name": "stdout",
     "output_type": "stream",
     "text": [
      "        price  area  bedrooms  bathrooms  stories  mainroad  guestroom  \\\n",
      "2    12250000  9960         3          2        2         1          0   \n",
      "370   3640000  4280         2          1        1         1          0   \n",
      "1    12250000  8960         4          4        4         1          0   \n",
      "238   4613000  4510         4          2        2         1          0   \n",
      "145   5600000  5000         3          1        4         1          0   \n",
      "\n",
      "     basement  hotwaterheating  airconditioning  parking  prefarea  \\\n",
      "2           1                0                0        2         1   \n",
      "370         0                0                1        2         0   \n",
      "1           0                0                1        3         0   \n",
      "238         1                0                0        0         0   \n",
      "145         0                0                0        0         0   \n",
      "\n",
      "     furnishingstatus_furnished  furnishingstatus_semi-furnished  \\\n",
      "2                             0                                1   \n",
      "370                           0                                1   \n",
      "1                             1                                0   \n",
      "238                           0                                1   \n",
      "145                           1                                0   \n",
      "\n",
      "     furnishingstatus_unfurnished  \n",
      "2                               0  \n",
      "370                             0  \n",
      "1                               0  \n",
      "238                             0  \n",
      "145                             0  \n"
     ]
    }
   ],
   "source": [
    "#preprocessing\n",
    "binary_columns = ['mainroad','guestroom','basement','hotwaterheating','airconditioning','prefarea']\n",
    "furnish_column = ['furnishingstatus_furnished','furnishingstatus_semi-furnished','furnishingstatus_unfurnished']\n",
    "df_encoded = pd.get_dummies(df,columns=['furnishingstatus'])\n",
    "df_encoded[binary_columns] = df_encoded[binary_columns].apply(lambda x:x.map({'yes':1,'no':0}))\n",
    "df_encoded[furnish_column]=df_encoded[furnish_column].apply(lambda y:y.map({True:1,False:0}))\n",
    "print(df_encoded.sample(5))"
   ]
  },
  {
   "cell_type": "code",
   "execution_count": 72,
   "metadata": {},
   "outputs": [
    {
     "name": "stdout",
     "output_type": "stream",
     "text": [
      "       price      area  bedrooms  bathrooms   stories  mainroad  guestroom  \\\n",
      "114  6020000  0.760768 -1.308863  -0.570187 -0.929397         1          1   \n",
      "442  3220000 -1.137625 -1.308863  -0.570187 -0.929397         1          0   \n",
      "189  5040000 -0.742818 -1.308863  -0.570187 -0.929397         0          1   \n",
      "278  4277000 -0.807390  0.047278  -0.570187  0.224410         1          0   \n",
      "434  3290000 -0.626590  1.403419  -0.570187  0.224410         1          0   \n",
      "\n",
      "     basement  hotwaterheating  airconditioning  parking  prefarea  \\\n",
      "114         1                0                0        2         0   \n",
      "442         0                0                1        1         0   \n",
      "189         1                0                0        0         0   \n",
      "278         1                0                0        2         1   \n",
      "434         0                0                0        0         0   \n",
      "\n",
      "     furnishingstatus_furnished  furnishingstatus_semi-furnished  \\\n",
      "114                           1                                0   \n",
      "442                           0                                0   \n",
      "189                           0                                1   \n",
      "278                           0                                1   \n",
      "434                           0                                1   \n",
      "\n",
      "     furnishingstatus_unfurnished  \n",
      "114                             0  \n",
      "442                             1  \n",
      "189                             0  \n",
      "278                             0  \n",
      "434                             0  \n"
     ]
    }
   ],
   "source": [
    "# #scaling\n",
    "from sklearn.preprocessing import StandardScaler\n",
    "stdScaler = StandardScaler()\n",
    "features = ['area','bedrooms','stories','bathrooms']\n",
    "df_encoded[features] = stdScaler.fit_transform(df_encoded[features])\n",
    "print(df_encoded.sample(5))"
   ]
  },
  {
   "cell_type": "code",
   "execution_count": 73,
   "metadata": {},
   "outputs": [
    {
     "name": "stdout",
     "output_type": "stream",
     "text": [
      "mean squared error:  21.20440190405682\n"
     ]
    }
   ],
   "source": [
    "from sklearn.linear_model import LinearRegression\n",
    "from sklearn.model_selection import train_test_split\n",
    "from sklearn.metrics import mean_absolute_percentage_error\n",
    "\n",
    "X = df_encoded.drop(columns=['price'])\n",
    "y = df_encoded['price']\n",
    "\n",
    "model = LinearRegression()\n",
    "X_train,X_test,y_train,y_test = train_test_split(X,y,test_size=0.3,random_state=42)\n",
    "model = model.fit(X_train,y_train)\n",
    "\n",
    "y_pred = model.predict(X_test)\n",
    "\n",
    "mape = mean_absolute_percentage_error(y_test,y_pred)\n",
    "\n",
    "print(\"mean squared error: \",mape*100)"
   ]
  }
 ],
 "metadata": {
  "kernelspec": {
   "display_name": "Python 3 (ipykernel)",
   "language": "python",
   "name": "python3"
  }
 },
 "nbformat": 4,
 "nbformat_minor": 2
}
