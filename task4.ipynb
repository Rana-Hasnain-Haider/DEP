{
  "nbformat": 4,
  "nbformat_minor": 0,
  "metadata": {
    "colab": {
      "provenance": [],
      "gpuType": "T4"
    },
    "kernelspec": {
      "name": "python3",
      "display_name": "Python 3"
    },
    "language_info": {
      "name": "python"
    },
    "accelerator": "GPU"
  },
  "cells": [
    {
      "cell_type": "code",
      "execution_count": 17,
      "metadata": {
        "id": "JBp-Ef8P5Qeg"
      },
      "outputs": [],
      "source": [
        "import tensorflow as tf\n",
        "from tensorflow.keras.datasets import cifar10\n",
        "from tensorflow.keras.preprocessing.image import ImageDataGenerator\n",
        "from sklearn.model_selection import train_test_split\n",
        "from tensorflow.keras.callbacks import EarlyStopping\n",
        "from tensorflow.keras import regularizers,layers\n",
        "import matplotlib.pyplot as plt\n",
        "\n"
      ]
    },
    {
      "cell_type": "code",
      "source": [
        "(x_train,y_train),(x_test,y_test) = cifar10.load_data()\n",
        "x_train, x_val, y_train, y_val = train_test_split(x_train, y_train, test_size=0.2, random_state=42)"
      ],
      "metadata": {
        "colab": {
          "base_uri": "https://localhost:8080/"
        },
        "id": "evxvpZwx6eaQ",
        "outputId": "1d78d0ed-244b-48ee-d2e7-1fd7e2855fd2"
      },
      "execution_count": 2,
      "outputs": [
        {
          "output_type": "stream",
          "name": "stdout",
          "text": [
            "Downloading data from https://www.cs.toronto.edu/~kriz/cifar-10-python.tar.gz\n",
            "170498071/170498071 [==============================] - 4s 0us/step\n"
          ]
        }
      ]
    },
    {
      "cell_type": "code",
      "source": [
        "x_datagen = ImageDataGenerator(\n",
        "    rescale=1./255,\n",
        "\n",
        "    rotation_range=30,\n",
        "\n",
        "    width_shift_range=0.2,\n",
        "\n",
        "    height_shift_range=0.2,\n",
        "\n",
        "    shear_range=0.2,\n",
        "\n",
        "    zoom_range=0.2,\n",
        "\n",
        "    horizontal_flip=True,\n",
        "\n",
        "    fill_mode='nearest'\n",
        ")\n",
        "x_datagen.fit(x_train)\n",
        "x_datagen.fit(x_test)"
      ],
      "metadata": {
        "id": "YlL4O2Gi9p_G"
      },
      "execution_count": 3,
      "outputs": []
    },
    {
      "cell_type": "code",
      "source": [
        "model = tf.keras.models.Sequential([\n",
        "    layers.Conv2D(32, (3, 3), activation='relu', input_shape=(32, 32, 3),\n",
        "                  kernel_regularizer=regularizers.l2(0.001)),  # L2 regularization\n",
        "    layers.Dropout(0.3),\n",
        "    layers.MaxPooling2D(2, 2),\n",
        "\n",
        "    layers.Conv2D(64, (3, 3), activation='relu',\n",
        "                  kernel_regularizer=regularizers.l2(0.001)),  # L2 regularization\n",
        "    layers.Dropout(0.4),\n",
        "    layers.MaxPooling2D(2, 2),\n",
        "\n",
        "    layers.Conv2D(128, (3, 3), activation='relu',\n",
        "                  kernel_regularizer=regularizers.l2(0.001)),  # L2 regularization\n",
        "    layers.Dropout(0.5),\n",
        "    layers.MaxPooling2D(2, 2),\n",
        "\n",
        "    layers.Flatten(),\n",
        "    layers.Dense(1024, activation='relu',\n",
        "                 kernel_regularizer=regularizers.l2(0.001)),  # L2 regularization\n",
        "    layers.Dropout(0.5),\n",
        "    layers.Dense(256, activation='relu',\n",
        "                 kernel_regularizer=regularizers.l2(0.001)),  # L2 regularization\n",
        "    layers.Dense(10)\n",
        "])"
      ],
      "metadata": {
        "id": "6scggMmHBOmZ"
      },
      "execution_count": 15,
      "outputs": []
    },
    {
      "cell_type": "code",
      "source": [
        "early_stopping = EarlyStopping(monitor='val_loss', patience=5, restore_best_weights=True)\n",
        "\n",
        "model.compile(optimizer='adam', loss=tf.keras.losses.SparseCategoricalCrossentropy(from_logits=True), metrics=['accuracy'])\n",
        "epochs_size = 30\n",
        "batch_size = 128\n",
        "history = model.fit(x_train,y_train, validation_data=(x_val, y_val), epochs=epochs_size,batch_size=batch_size,callbacks=[early_stopping])"
      ],
      "metadata": {
        "colab": {
          "base_uri": "https://localhost:8080/"
        },
        "id": "8llnTdf5GW4e",
        "outputId": "90ef711b-9508-413c-f681-810345e9c9ea"
      },
      "execution_count": 16,
      "outputs": [
        {
          "output_type": "stream",
          "name": "stdout",
          "text": [
            "Epoch 1/30\n",
            "313/313 [==============================] - 5s 9ms/step - loss: 3.6978 - accuracy: 0.2699 - val_loss: 2.8218 - val_accuracy: 0.3945\n",
            "Epoch 2/30\n",
            "313/313 [==============================] - 2s 8ms/step - loss: 2.4898 - accuracy: 0.4087 - val_loss: 2.4981 - val_accuracy: 0.4881\n",
            "Epoch 3/30\n",
            "313/313 [==============================] - 3s 8ms/step - loss: 2.2191 - accuracy: 0.4697 - val_loss: 2.3451 - val_accuracy: 0.5151\n",
            "Epoch 4/30\n",
            "313/313 [==============================] - 3s 10ms/step - loss: 2.0211 - accuracy: 0.5107 - val_loss: 2.1338 - val_accuracy: 0.5637\n",
            "Epoch 5/30\n",
            "313/313 [==============================] - 3s 9ms/step - loss: 1.8713 - accuracy: 0.5439 - val_loss: 1.9972 - val_accuracy: 0.6049\n",
            "Epoch 6/30\n",
            "313/313 [==============================] - 2s 8ms/step - loss: 1.7506 - accuracy: 0.5663 - val_loss: 1.9275 - val_accuracy: 0.6134\n",
            "Epoch 7/30\n",
            "313/313 [==============================] - 2s 8ms/step - loss: 1.6426 - accuracy: 0.5877 - val_loss: 1.7817 - val_accuracy: 0.6225\n",
            "Epoch 8/30\n",
            "313/313 [==============================] - 2s 8ms/step - loss: 1.5584 - accuracy: 0.6042 - val_loss: 1.7655 - val_accuracy: 0.6149\n",
            "Epoch 9/30\n",
            "313/313 [==============================] - 3s 8ms/step - loss: 1.4838 - accuracy: 0.6199 - val_loss: 1.6705 - val_accuracy: 0.6600\n",
            "Epoch 10/30\n",
            "313/313 [==============================] - 3s 8ms/step - loss: 1.4217 - accuracy: 0.6296 - val_loss: 1.6012 - val_accuracy: 0.6640\n",
            "Epoch 11/30\n",
            "313/313 [==============================] - 3s 8ms/step - loss: 1.3682 - accuracy: 0.6439 - val_loss: 1.5781 - val_accuracy: 0.6747\n",
            "Epoch 12/30\n",
            "313/313 [==============================] - 2s 8ms/step - loss: 1.3430 - accuracy: 0.6488 - val_loss: 1.5478 - val_accuracy: 0.6616\n",
            "Epoch 13/30\n",
            "313/313 [==============================] - 2s 8ms/step - loss: 1.2982 - accuracy: 0.6588 - val_loss: 1.4742 - val_accuracy: 0.6669\n",
            "Epoch 14/30\n",
            "313/313 [==============================] - 3s 9ms/step - loss: 1.2750 - accuracy: 0.6637 - val_loss: 1.5108 - val_accuracy: 0.6749\n",
            "Epoch 15/30\n",
            "313/313 [==============================] - 3s 8ms/step - loss: 1.2319 - accuracy: 0.6762 - val_loss: 1.4769 - val_accuracy: 0.6915\n",
            "Epoch 16/30\n",
            "313/313 [==============================] - 2s 8ms/step - loss: 1.2158 - accuracy: 0.6805 - val_loss: 1.4012 - val_accuracy: 0.6904\n",
            "Epoch 17/30\n",
            "313/313 [==============================] - 3s 8ms/step - loss: 1.2060 - accuracy: 0.6808 - val_loss: 1.3688 - val_accuracy: 0.7039\n",
            "Epoch 18/30\n",
            "313/313 [==============================] - 2s 8ms/step - loss: 1.1952 - accuracy: 0.6823 - val_loss: 1.3625 - val_accuracy: 0.7070\n",
            "Epoch 19/30\n",
            "313/313 [==============================] - 3s 9ms/step - loss: 1.1784 - accuracy: 0.6898 - val_loss: 1.3447 - val_accuracy: 0.6991\n",
            "Epoch 20/30\n",
            "313/313 [==============================] - 3s 8ms/step - loss: 1.1724 - accuracy: 0.6934 - val_loss: 1.3259 - val_accuracy: 0.7093\n",
            "Epoch 21/30\n",
            "313/313 [==============================] - 2s 8ms/step - loss: 1.1487 - accuracy: 0.6999 - val_loss: 1.3512 - val_accuracy: 0.6984\n",
            "Epoch 22/30\n",
            "313/313 [==============================] - 3s 8ms/step - loss: 1.1525 - accuracy: 0.6998 - val_loss: 1.3211 - val_accuracy: 0.7283\n",
            "Epoch 23/30\n",
            "313/313 [==============================] - 2s 8ms/step - loss: 1.1489 - accuracy: 0.7008 - val_loss: 1.3665 - val_accuracy: 0.7184\n",
            "Epoch 24/30\n",
            "313/313 [==============================] - 3s 8ms/step - loss: 1.1402 - accuracy: 0.7051 - val_loss: 1.3086 - val_accuracy: 0.7117\n",
            "Epoch 25/30\n",
            "313/313 [==============================] - 3s 9ms/step - loss: 1.1214 - accuracy: 0.7092 - val_loss: 1.3324 - val_accuracy: 0.7244\n",
            "Epoch 26/30\n",
            "313/313 [==============================] - 2s 8ms/step - loss: 1.1060 - accuracy: 0.7143 - val_loss: 1.3093 - val_accuracy: 0.6990\n",
            "Epoch 27/30\n",
            "313/313 [==============================] - 2s 8ms/step - loss: 1.1116 - accuracy: 0.7143 - val_loss: 1.2942 - val_accuracy: 0.7230\n",
            "Epoch 28/30\n",
            "313/313 [==============================] - 2s 8ms/step - loss: 1.1088 - accuracy: 0.7160 - val_loss: 1.2874 - val_accuracy: 0.7205\n",
            "Epoch 29/30\n",
            "313/313 [==============================] - 3s 9ms/step - loss: 1.1053 - accuracy: 0.7154 - val_loss: 1.2378 - val_accuracy: 0.7371\n",
            "Epoch 30/30\n",
            "313/313 [==============================] - 3s 8ms/step - loss: 1.1003 - accuracy: 0.7181 - val_loss: 1.2627 - val_accuracy: 0.7461\n"
          ]
        }
      ]
    },
    {
      "cell_type": "code",
      "source": [
        "epochs_range = range(epochs_size)\n",
        "plt.figure(figsize=(8,8))\n",
        "plt.plot(epochs_range,history.history['accuracy'],label = 'Training Accuracy')\n",
        "plt.plot(epochs_range, history.history['val_accuracy'],label = 'Validation Accuracy')\n",
        "plt.legend()\n",
        "plt.title('Accuracy')"
      ],
      "metadata": {
        "colab": {
          "base_uri": "https://localhost:8080/",
          "height": 716
        },
        "id": "Y4LJc6vCThlH",
        "outputId": "33e4c31e-5e4f-4812-9b81-ccba7ebda471"
      },
      "execution_count": 18,
      "outputs": [
        {
          "output_type": "execute_result",
          "data": {
            "text/plain": [
              "Text(0.5, 1.0, 'Accuracy')"
            ]
          },
          "metadata": {},
          "execution_count": 18
        },
        {
          "output_type": "display_data",
          "data": {
            "text/plain": [
              "<Figure size 800x800 with 1 Axes>"
            ],
            "image/png": "[encoded data removed]"
          },
          "metadata": {}
        }
      ]
    },
    {
      "cell_type": "code",
      "source": [
        "test_loss, test_accuracy = model.evaluate(x_test,y_test)\n",
        "print(f'Test Accuracy: {test_accuracy:.4f}')"
      ],
      "metadata": {
        "colab": {
          "base_uri": "https://localhost:8080/"
        },
        "id": "PHPlHztWTkjt",
        "outputId": "b219cdb6-a5de-43c2-cdf5-05d46b1b290c"
      },
      "execution_count": 20,
      "outputs": [
        {
          "output_type": "stream",
          "name": "stdout",
          "text": [
            "313/313 [==============================] - 1s 3ms/step - loss: 1.2695 - accuracy: 0.7445\n",
            "Test Accuracy: 0.7445\n"
          ]
        }
      ]
    },
    {
      "cell_type": "code",
      "source": [],
      "metadata": {
        "id": "6MzMuS3JTkwf"
      },
      "execution_count": null,
      "outputs": []
    },
    {
      "cell_type": "code",
      "source": [],
      "metadata": {
        "id": "dEQV2WKcTk80"
      },
      "execution_count": null,
      "outputs": []
    }
  ]
}